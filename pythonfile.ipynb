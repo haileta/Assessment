{
 "cells": [
  {
   "cell_type": "code",
   "execution_count": 77,
   "id": "5927abae",
   "metadata": {},
   "outputs": [],
   "source": [
    "import numpy as np\n",
    "import pandas as pd\n",
    "import matplotlib.pyplot as plt\n",
    "import seaborn as sns\n",
    "import pickle"
   ]
  },
  {
   "cell_type": "code",
   "execution_count": 38,
   "id": "d86d732a",
   "metadata": {},
   "outputs": [
    {
     "data": {
      "text/html": [
       "<div>\n",
       "<style scoped>\n",
       "    .dataframe tbody tr th:only-of-type {\n",
       "        vertical-align: middle;\n",
       "    }\n",
       "\n",
       "    .dataframe tbody tr th {\n",
       "        vertical-align: top;\n",
       "    }\n",
       "\n",
       "    .dataframe thead th {\n",
       "        text-align: right;\n",
       "    }\n",
       "</style>\n",
       "<table border=\"1\" class=\"dataframe\">\n",
       "  <thead>\n",
       "    <tr style=\"text-align: right;\">\n",
       "      <th></th>\n",
       "      <th>Year</th>\n",
       "      <th>Major</th>\n",
       "      <th>University</th>\n",
       "      <th>Time</th>\n",
       "      <th>Order</th>\n",
       "    </tr>\n",
       "  </thead>\n",
       "  <tbody>\n",
       "    <tr>\n",
       "      <th>0</th>\n",
       "      <td>Year 2</td>\n",
       "      <td>Physics</td>\n",
       "      <td>Indiana State University</td>\n",
       "      <td>12</td>\n",
       "      <td>Fried Catfish Basket</td>\n",
       "    </tr>\n",
       "    <tr>\n",
       "      <th>1</th>\n",
       "      <td>Year 3</td>\n",
       "      <td>Chemistry</td>\n",
       "      <td>Ball State University</td>\n",
       "      <td>14</td>\n",
       "      <td>Sugar Cream Pie</td>\n",
       "    </tr>\n",
       "    <tr>\n",
       "      <th>2</th>\n",
       "      <td>Year 3</td>\n",
       "      <td>Chemistry</td>\n",
       "      <td>Butler University</td>\n",
       "      <td>12</td>\n",
       "      <td>Indiana Pork Chili</td>\n",
       "    </tr>\n",
       "    <tr>\n",
       "      <th>3</th>\n",
       "      <td>Year 2</td>\n",
       "      <td>Biology</td>\n",
       "      <td>Indiana State University</td>\n",
       "      <td>11</td>\n",
       "      <td>Fried Catfish Basket</td>\n",
       "    </tr>\n",
       "    <tr>\n",
       "      <th>4</th>\n",
       "      <td>Year 3</td>\n",
       "      <td>Business Administration</td>\n",
       "      <td>Butler University</td>\n",
       "      <td>12</td>\n",
       "      <td>Indiana Corn on the Cob (brushed with garlic b...</td>\n",
       "    </tr>\n",
       "  </tbody>\n",
       "</table>\n",
       "</div>"
      ],
      "text/plain": [
       "     Year                    Major                University  Time  \\\n",
       "0  Year 2                  Physics  Indiana State University    12   \n",
       "1  Year 3                Chemistry     Ball State University    14   \n",
       "2  Year 3                Chemistry         Butler University    12   \n",
       "3  Year 2                  Biology  Indiana State University    11   \n",
       "4  Year 3  Business Administration         Butler University    12   \n",
       "\n",
       "                                               Order  \n",
       "0                               Fried Catfish Basket  \n",
       "1                                    Sugar Cream Pie  \n",
       "2                                 Indiana Pork Chili  \n",
       "3                               Fried Catfish Basket  \n",
       "4  Indiana Corn on the Cob (brushed with garlic b...  "
      ]
     },
     "execution_count": 38,
     "metadata": {},
     "output_type": "execute_result"
    }
   ],
   "source": [
    "data = pd.read_csv(\"XTern 2024 Artificial Intelegence Data Set - Xtern_TrainData.csv\")\n",
    "data.dropna(inplace = True)\n",
    "data.dtypes\n",
    "data.head() "
   ]
  },
  {
   "cell_type": "code",
   "execution_count": 60,
   "id": "f223a2ed",
   "metadata": {},
   "outputs": [
    {
     "data": {
      "text/plain": [
       "{'Breaded Pork Tenderloin Sandwich',\n",
       " 'Cornbread Hush Puppies',\n",
       " 'Fried Catfish Basket',\n",
       " 'Hoosier BBQ Pulled Pork Sandwich',\n",
       " 'Indiana Buffalo Chicken Tacos (3 tacos)',\n",
       " 'Indiana Corn on the Cob (brushed with garlic butter)',\n",
       " 'Indiana Pork Chili',\n",
       " 'Sugar Cream Pie',\n",
       " 'Sweet Potato Fries',\n",
       " 'Ultimate Grilled Cheese Sandwich (with bacon and tomato)'}"
      ]
     },
     "execution_count": 60,
     "metadata": {},
     "output_type": "execute_result"
    }
   ],
   "source": [
    "#set(data['University'])\n",
    "set(data['Order']) # to see how many orders we are taking"
   ]
  },
  {
   "cell_type": "markdown",
   "id": "9303e322",
   "metadata": {},
   "source": [
    "Ethical Implications:\n",
    "\n",
    "1. Ensuring data privacy and anonymity to protect customer information.\n",
    "2. Considering potential biases in the data, such as demographic biases or biases in the order history.\n",
    "\n",
    "Business Outcome Implications:\n",
    "\n",
    "1. Accurate predictions can lead to increased customer satisfaction and loyalty.\n",
    "2. Inaccurate predictions can result in poor customer service and lost business opportunities.\n",
    "\n",
    "Technical Implications:\n",
    "\n",
    "1. Ensuring data quality and consistency to avoid errors in the model.\n",
    "2. Ensuring the model is scalable and can handle large datasets efficiently.\n",
    "\n",
    "3. Model Building"
   ]
  },
  {
   "cell_type": "markdown",
   "id": "68ad7588",
   "metadata": {},
   "source": [
    "1. Convert the Year, Major, University, and Time columns to numerical variables.\n",
    "2. Use a random forest regressor to train the model.\n",
    "3. If the accuracy of the model is not satisfactory, use hyperparameter tuning with GridSearch to improve it."
   ]
  },
  {
   "cell_type": "code",
   "execution_count": 40,
   "id": "4a1ae7db",
   "metadata": {},
   "outputs": [],
   "source": [
    "from sklearn.model_selection import train_test_split\n",
    "\n",
    "X = data.drop(['Order'],axis =1)\n",
    "y = data['Order']\n",
    "X_train, X_test, y_train, y_test = train_test_split(X,y,test_size = 0.2)"
   ]
  },
  {
   "cell_type": "code",
   "execution_count": 24,
   "id": "0cde6ee6",
   "metadata": {},
   "outputs": [],
   "source": [
    "from sklearn.ensemble import RandomForestRegressor\n",
    "\n",
    "model = RandomForestRegressor()\n",
    "\n",
    "model.fit(X_train, y_train)\n",
    "model.score(X_test, y_test)"
   ]
  },
  {
   "cell_type": "code",
   "execution_count": 46,
   "id": "21def2c5",
   "metadata": {},
   "outputs": [
    {
     "name": "stdout",
     "output_type": "stream",
     "text": [
      "[2 7 6 ... 7 7 0]\n"
     ]
    }
   ],
   "source": [
    "from sklearn.preprocessing import OneHotEncoder\n",
    "from sklearn.compose import ColumnTransformer\n",
    "from sklearn.preprocessing import LabelEncoder\n",
    "\n",
    "feature = ['Order']\n",
    "\n",
    "label_encoder = LabelEncoder()\n",
    "\n",
    "label_encoder.fit(y)\n",
    "\n",
    "\n",
    "transformed_y = label_encoder.transform(y)\n",
    "\n",
    "transformed_y\n"
   ]
  },
  {
   "cell_type": "code",
   "execution_count": 47,
   "id": "aa428315",
   "metadata": {},
   "outputs": [
    {
     "data": {
      "text/plain": [
       "<5000x44 sparse matrix of type '<class 'numpy.float64'>'\n",
       "\twith 20000 stored elements in Compressed Sparse Row format>"
      ]
     },
     "execution_count": 47,
     "metadata": {},
     "output_type": "execute_result"
    }
   ],
   "source": [
    "#turn the catergoris into numbers\n",
    "features = ['Year','Major','University','Time']\n",
    "\n",
    "transformer = ColumnTransformer([(\"one_hot\",one_hot,features)], remainder = \"passthrough\")\n",
    "\n",
    "transformed_X = transformer.fit_transform(X)\n",
    "\n",
    "transformed_X\n",
    "\n"
   ]
  },
  {
   "cell_type": "code",
   "execution_count": 90,
   "id": "a3574fa2",
   "metadata": {},
   "outputs": [
    {
     "data": {
      "text/plain": [
       "RandomForestRegressor()"
      ]
     },
     "execution_count": 90,
     "metadata": {},
     "output_type": "execute_result"
    }
   ],
   "source": [
    "X_train, X_test, y_train, y_test =  train_test_split(transformed_X,transformed_y,test_size = 0.2)\n",
    "\n",
    "dx = pd.DataFrame(transformed_X)\n",
    "dy = pd.DataFrame(transformed_y)\n",
    "\n",
    "train_data = dx.join(dy, lsuffix='_dx', rsuffix='_dy')\n",
    "\n",
    "model.fit(X_train,y_train)\n",
    "\n",
    "#train_data = transformed_X.join(transformed_y)\n",
    "#sns.heatmap(train_data.corr(),annot=True, cmap = \"YlGnBu\" )"
   ]
  },
  {
   "cell_type": "code",
   "execution_count": 82,
   "id": "340e192f",
   "metadata": {},
   "outputs": [
    {
     "data": {
      "text/plain": [
       "0.339711755790873"
      ]
     },
     "execution_count": 82,
     "metadata": {},
     "output_type": "execute_result"
    }
   ],
   "source": [
    "model.score(X_test, y_test)"
   ]
  },
  {
   "cell_type": "code",
   "execution_count": 54,
   "id": "19b42d81",
   "metadata": {},
   "outputs": [
    {
     "data": {
      "text/plain": [
       "0.5066983661795187"
      ]
     },
     "execution_count": 54,
     "metadata": {},
     "output_type": "execute_result"
    }
   ],
   "source": [
    "best_forest = grid_search.best_estimator_\n",
    "best_forest.score(X_test ,y_test)"
   ]
  },
  {
   "cell_type": "markdown",
   "id": "bc98b41e",
   "metadata": {},
   "source": [
    "**Here we can see it performs better**"
   ]
  },
  {
   "cell_type": "code",
   "execution_count": 53,
   "id": "5780a1ca",
   "metadata": {},
   "outputs": [
    {
     "data": {
      "text/plain": [
       "GridSearchCV(cv=5, estimator=RandomForestRegressor(),\n",
       "             param_grid={'max_depth': [None, 4, 8], 'max_features': [8, 12, 20],\n",
       "                         'min_samples_split': [2, 4, 6, 8],\n",
       "                         'n_estimators': [100, 200, 300]},\n",
       "             return_train_score=True, scoring='neg_mean_squared_error')"
      ]
     },
     "execution_count": 53,
     "metadata": {},
     "output_type": "execute_result"
    }
   ],
   "source": [
    "from sklearn.model_selection import GridSearchCV\n",
    "\n",
    "param_grid = {\n",
    "    \"n_estimators\": [100,200,300], \n",
    "#   \"max_features\": [8,12,20],\n",
    "    \"min_samples_split\":[2,4,6,8],\n",
    "    \"max_depth\":[None,4,8]\n",
    "}\n",
    "\n",
    "grid_search = GridSearchCV(RandomForestRegressor(), param_grid, cv=5,\n",
    "                           scoring=\"neg_mean_squared_error\",\n",
    "                           return_train_score=True)\n",
    "\n",
    "grid_search.fit(transformed_X, transformed_y)  # we can change the value for the param_grid to improve the accuracy"
   ]
  },
  {
   "cell_type": "markdown",
   "id": "bacfa2cc",
   "metadata": {},
   "source": [
    "#### I am going to build a function after this"
   ]
  },
  {
   "cell_type": "code",
   "execution_count": 94,
   "id": "1965187f",
   "metadata": {},
   "outputs": [],
   "source": [
    "import pickle\n",
    "import numpy as np\n",
    "from sklearn.model_selection import train_test_split\n",
    "from sklearn.ensemble import RandomForestRegressor\n",
    "from sklearn.model_selection import GridSearchCV\n",
    "from sklearn.preprocessing import OneHotEncoder\n",
    "from sklearn.compose import ColumnTransformer\n",
    "from sklearn.preprocessing import LabelEncoder\n",
    "\n",
    "def modeling_data(dataset_path):\n",
    " \n",
    "\n",
    "    data = pd.read_csv(dataset_path)\n",
    "    data = data.dropna()\n",
    "    X = data.drop(['Order'],axis =1)\n",
    "    y = data['Order']\n",
    "    X_train, X_test, y_train, y_test = train_test_split(X,y,test_size = 0.2)\n",
    "    \n",
    "    model = RandomForestRegressor()\n",
    "    \n",
    "    feature = ['Order']\n",
    "\n",
    "    label_encoder = LabelEncoder()\n",
    "\n",
    "    label_encoder.fit(y)\n",
    "\n",
    "    transformed_y = label_encoder.transform(y)\n",
    "    \n",
    "    features = ['Year','Major','University','Time']\n",
    "\n",
    "    transformer = ColumnTransformer([(\"one_hot\",one_hot,features)], remainder = \"passthrough\")\n",
    "\n",
    "    X_train, X_test, y_train, y_test =  train_test_split(transformed_X,transformed_y,test_size = 0.2)\n",
    "   \n",
    "\n",
    "    param_grid = {\n",
    "    \"n_estimators\": [100,200,300], \n",
    "    \"min_samples_split\":[2,4,6,8],\n",
    "    \"max_depth\":[None,4,8]\n",
    "    }\n",
    "\n",
    "    grid_search = GridSearchCV(RandomForestRegressor(), param_grid, cv=5,\n",
    "                           scoring=\"neg_mean_squared_error\",\n",
    "                           return_train_score=True)\n",
    "\n",
    "    grid_search.fit(transformed_X, transformed_y)\n",
    "\n",
    "    best_forest = grid_search.best_estimator_\n",
    "\n",
    "    with open(\"model.pkl\", \"wb\") as f:\n",
    "        pickle.dump(best_forest, f)\n",
    "\n",
    "    return best_forest.score(X_test, y_test)\n"
   ]
  },
  {
   "cell_type": "code",
   "execution_count": 97,
   "id": "1e45e34b",
   "metadata": {},
   "outputs": [
    {
     "data": {
      "text/plain": [
       "0.3862775608120055"
      ]
     },
     "execution_count": 97,
     "metadata": {},
     "output_type": "execute_result"
    }
   ],
   "source": [
    "modeling_data(\"XTern 2024 Artificial Intelegence Data Set - Xtern_TrainData.csv\")"
   ]
  },
  {
   "cell_type": "code",
   "execution_count": null,
   "id": "8ba1e85e",
   "metadata": {},
   "outputs": [],
   "source": []
  }
 ],
 "metadata": {
  "kernelspec": {
   "display_name": "Python 3 (ipykernel)",
   "language": "python",
   "name": "python3"
  },
  "language_info": {
   "codemirror_mode": {
    "name": "ipython",
    "version": 3
   },
   "file_extension": ".py",
   "mimetype": "text/x-python",
   "name": "python",
   "nbconvert_exporter": "python",
   "pygments_lexer": "ipython3",
   "version": "3.9.13"
  }
 },
 "nbformat": 4,
 "nbformat_minor": 5
}
